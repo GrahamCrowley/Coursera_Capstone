{
 "cells": [
  {
   "cell_type": "markdown",
   "metadata": {},
   "source": [
    "# Coursera IBM Capstone Project – Battle of the Neighborhoods\n",
    "\n",
    "#### Problem Description\n",
    "\n",
    "New York City (sometimes called the Big Apple or more simply “NYC”) is one of the most ethnically diverse and culturally rich cities in the world. With a population of over 8 million New York City is one of the most densely populated cities in the world. With the large number of diverse cultures and its high density, New York City has been labelled the “melting pot” of the US. There are as many as 800 languages spoken in New York City which makes it the most linguistically diverse city in the world. \n",
    "\n",
    "Given its rich and diverse culture it is no surprise that over 65 million tourists visited New York City in 2018. During the day many of these tourists visit the main sites and attractions in New York City which include the Statue of Liberty, Times Square and Central Park amongst others. New York City is also known as the “city that never sleeps” and many of these tourists are eager to sample the city’s nightlife culture and bars. The Irish are synonymous with the New York City and Irish Bars are viewed as being the best bars in many cities across the world as they have the best “craic”. \n",
    "\n",
    "In this project I will provide a summary of the best Irish Bars in New York City that tourists should visit.  \n",
    "\n",
    "#### Description of Data To Be Used\n",
    "There are three data sources that will be used to complete this project, namely:\n",
    "\n",
    "1.\tData source: https://cocl.us/new_york_dataset\n",
    "This data set contains the longitude and latitude of each borough and neighborhood in New York City. This information will be used to explore the various neighborhoods in each borough. \n",
    "\n",
    "2.\tData source : https://data.cityofnewyork.us/City-Government/Borough-Boundaries/tqmj-j8zm \n",
    "This data set will enable us to visualise New York City Borough boundaries.\n",
    "\n",
    "3.\tData source : Fousquare API \n",
    "This API will provide us a summary of the Irish bars in each borough and neighborhood across New York City. \n",
    "\n",
    "\n",
    "#### How Will This Data Be Used to Solve the Problem?\n",
    "The approach to solving this problem is:\n",
    "1.\tPull in the New York City borough and neighborhood from the data source: https://cocl.us/new_york_dataset.\n",
    "2.\tUse the FourSquare API to identify all venues in each borough and neighborhood.\n",
    "3.\tIdentify the venues which are Irish Bars.\n",
    "4.\tUse the FourSquare API to find the average rating and tips for each Irish Bar.\n",
    "5.\tUsing the data, identify the Irish Bars based on an average rating greater than 7.\n",
    "6.\tProduce a map of New York City that visualizes the location of the Irish Bars in each neighborhood. \n"
   ]
  },
  {
   "cell_type": "code",
   "execution_count": 16,
   "metadata": {},
   "outputs": [
    {
     "name": "stdout",
     "output_type": "stream",
     "text": [
      "Requirement already satisfied: geocoder in c:\\users\\user\\anaconda3\\lib\\site-packages (1.38.1)\n",
      "Requirement already satisfied: ratelim in c:\\users\\user\\anaconda3\\lib\\site-packages (from geocoder) (0.1.6)\n",
      "Requirement already satisfied: six in c:\\users\\user\\anaconda3\\lib\\site-packages (from geocoder) (1.15.0)\n",
      "Requirement already satisfied: click in c:\\users\\user\\anaconda3\\lib\\site-packages (from geocoder) (7.1.2)\n",
      "Requirement already satisfied: future in c:\\users\\user\\anaconda3\\lib\\site-packages (from geocoder) (0.18.2)\n",
      "Requirement already satisfied: requests in c:\\users\\user\\anaconda3\\lib\\site-packages (from geocoder) (2.24.0)\n",
      "Requirement already satisfied: decorator in c:\\users\\user\\anaconda3\\lib\\site-packages (from ratelim->geocoder) (4.4.2)\n",
      "Requirement already satisfied: chardet<4,>=3.0.2 in c:\\users\\user\\anaconda3\\lib\\site-packages (from requests->geocoder) (3.0.4)\n",
      "Requirement already satisfied: idna<3,>=2.5 in c:\\users\\user\\anaconda3\\lib\\site-packages (from requests->geocoder) (2.10)\n",
      "Requirement already satisfied: urllib3!=1.25.0,!=1.25.1,<1.26,>=1.21.1 in c:\\users\\user\\anaconda3\\lib\\site-packages (from requests->geocoder) (1.25.9)\n",
      "Requirement already satisfied: certifi>=2017.4.17 in c:\\users\\user\\anaconda3\\lib\\site-packages (from requests->geocoder) (2020.6.20)\n",
      "Requirement already satisfied: folium in c:\\users\\user\\anaconda3\\lib\\site-packages (0.11.0)\n",
      "Requirement already satisfied: numpy in c:\\users\\user\\anaconda3\\lib\\site-packages (from folium) (1.18.5)\n",
      "Requirement already satisfied: requests in c:\\users\\user\\anaconda3\\lib\\site-packages (from folium) (2.24.0)\n",
      "Requirement already satisfied: branca>=0.3.0 in c:\\users\\user\\anaconda3\\lib\\site-packages (from folium) (0.4.1)\n",
      "Requirement already satisfied: jinja2>=2.9 in c:\\users\\user\\anaconda3\\lib\\site-packages (from folium) (2.11.2)\n",
      "Requirement already satisfied: chardet<4,>=3.0.2 in c:\\users\\user\\anaconda3\\lib\\site-packages (from requests->folium) (3.0.4)\n",
      "Requirement already satisfied: certifi>=2017.4.17 in c:\\users\\user\\anaconda3\\lib\\site-packages (from requests->folium) (2020.6.20)\n",
      "Requirement already satisfied: urllib3!=1.25.0,!=1.25.1,<1.26,>=1.21.1 in c:\\users\\user\\anaconda3\\lib\\site-packages (from requests->folium) (1.25.9)\n",
      "Requirement already satisfied: idna<3,>=2.5 in c:\\users\\user\\anaconda3\\lib\\site-packages (from requests->folium) (2.10)\n",
      "Requirement already satisfied: MarkupSafe>=0.23 in c:\\users\\user\\anaconda3\\lib\\site-packages (from jinja2>=2.9->folium) (1.1.1)\n",
      "Libraries imported.\n"
     ]
    }
   ],
   "source": [
    "#Download and install geocoder and folium libraries\n",
    "!pip install geocoder\n",
    "!pip install folium\n",
    "\n",
    "import pandas as pd\n",
    "import numpy as np\n",
    "pd.set_option('display.max_columns', None)\n",
    "pd.set_option('display.max_rows', None)\n",
    "import requests\n",
    "from bs4 import BeautifulSoup\n",
    "import geocoder\n",
    "import os\n",
    "import folium # map rendering library\n",
    "from geopy.geocoders import Nominatim # convert an address into latitude and longitude values\n",
    "\n",
    "# Matplotlib and associated plotting modules\n",
    "import matplotlib.pyplot as plt\n",
    "import matplotlib.cm as cm\n",
    "import matplotlib.colors as colors\n",
    "%matplotlib inline\n",
    "\n",
    "\n",
    "print('Libraries imported.')\n"
   ]
  },
  {
   "cell_type": "code",
   "execution_count": 17,
   "metadata": {},
   "outputs": [],
   "source": [
    "def geo_location(address):\n",
    "    # get geo location of address\n",
    "    geolocator = Nominatim(user_agent=\"ny_explorer\")\n",
    "    location = geolocator.geocode(address)\n",
    "    latitude = location.latitude\n",
    "    longitude = location.longitude\n",
    "    return latitude,longitude"
   ]
  },
  {
   "cell_type": "markdown",
   "metadata": {},
   "source": [
    "Define a function to interact with FourSquare API and return the venue id, name and category. In addition to getting the top 100 venues within a radius of 1000 metres for a given latitude and longitude."
   ]
  },
  {
   "cell_type": "code",
   "execution_count": 18,
   "metadata": {},
   "outputs": [],
   "source": [
    "def get_venues(lat,lng):\n",
    "    \n",
    "    #set variables\n",
    "    radius=1000\n",
    "    LIMIT=100\n",
    "    CLIENT_ID = 'RF5VVG4WY2M2DN3QUJIGFB45U2RRQPB1HOTWGG03S5Z4H2N1' # your Foursquare ID\n",
    "    CLIENT_SECRET = 'AD3MPLRNSLPGLNS3NO1NXNM4TWCTSSZYFASSYA3GEW5SLEA1' # your Foursquare Secret\n",
    "    VERSION = '20180605' # Foursquare API version\n",
    "    \n",
    "    #url to fetch data from foursquare api\n",
    "    url = 'https://api.foursquare.com/v2/venues/explore?&client_id={}&client_secret={}&v={}&ll={},{}&radius={}&limit={}'.format(\n",
    "            CLIENT_ID, \n",
    "            CLIENT_SECRET, \n",
    "            VERSION, \n",
    "            lat, \n",
    "            lng, \n",
    "            radius, \n",
    "            LIMIT)\n",
    "    \n",
    "    # get all the data\n",
    "    results = requests.get(url).json()\n",
    "    venue_data=results[\"response\"]['groups'][0]['items']\n",
    "    venue_details=[]\n",
    "    for row in venue_data:\n",
    "        try:\n",
    "            venue_id=row['venue']['id']\n",
    "            venue_name=row['venue']['name']\n",
    "            venue_category=row['venue']['categories'][0]['name']\n",
    "            venue_details.append([venue_id,venue_name,venue_category])\n",
    "        except KeyError:\n",
    "            pass\n",
    "        \n",
    "    column_names=['ID','Name','Category']\n",
    "    df = pd.DataFrame(venue_details,columns=column_names)\n",
    "    return df"
   ]
  },
  {
   "cell_type": "markdown",
   "metadata": {},
   "source": [
    "We will define a function that will be used for ranking to get venue details such as ratings and tip counts for a given venue id."
   ]
  },
  {
   "cell_type": "code",
   "execution_count": 19,
   "metadata": {},
   "outputs": [],
   "source": [
    "def get_venue_details(venue_id):\n",
    "        \n",
    "    CLIENT_ID = 'RF5VVG4WY2M2DN3QUJIGFB45U2RRQPB1HOTWGG03S5Z4H2N1' # your Foursquare ID\n",
    "    CLIENT_SECRET = 'AD3MPLRNSLPGLNS3NO1NXNM4TWCTSSZYFASSYA3GEW5SLEA1' # your Foursquare Secret\n",
    "    VERSION = '20180605' # Foursquare API version\n",
    "    \n",
    "    \n",
    "    #url to fetch data from foursquare api\n",
    "    url = 'https://api.foursquare.com/v2/venues/{}?&client_id={}&client_secret={}&v={}'.format(\n",
    "            venue_id,\n",
    "            CLIENT_ID, \n",
    "            CLIENT_SECRET, \n",
    "            VERSION)\n",
    "    \n",
    "    # get all the data\n",
    "    results = requests.get(url).json()\n",
    "    venue_data=results['response']['venue']\n",
    "    venue_details=[]\n",
    "    try:\n",
    "        venue_id=venue_data['id']\n",
    "        venue_name=venue_data['name']\n",
    "        venue_likes=venue_data['likes']['count']\n",
    "        venue_rating=venue_data['rating']\n",
    "        venue_tips=venue_data['tips']['count']\n",
    "        venue_details.append([venue_id,venue_name,venue_likes,venue_rating,venue_tips])\n",
    "    except KeyError:\n",
    "        pass\n",
    "        \n",
    "    column_names=['ID','Name','Likes','Rating','Tips']\n",
    "    df = pd.DataFrame(venue_details,columns=column_names)\n",
    "    return df"
   ]
  },
  {
   "cell_type": "code",
   "execution_count": 20,
   "metadata": {},
   "outputs": [],
   "source": [
    "def get_new_york_data():\n",
    "    url='https://cocl.us/new_york_dataset'\n",
    "    resp=requests.get(url).json()\n",
    "    # all data is present in features label\n",
    "    features=resp['features']\n",
    "    \n",
    "    # define the dataframe columns\n",
    "    column_names = ['Borough', 'Neighborhood', 'Latitude', 'Longitude'] \n",
    "    # instantiate the dataframe\n",
    "    new_york_data = pd.DataFrame(columns=column_names)\n",
    "    \n",
    "    for data in features:\n",
    "        borough = data['properties']['borough'] \n",
    "        neighborhood_name = data['properties']['name']\n",
    "        \n",
    "        neighborhood_latlon = data['geometry']['coordinates']\n",
    "        neighborhood_lat = neighborhood_latlon[1]\n",
    "        neighborhood_lon = neighborhood_latlon[0]\n",
    "    \n",
    "        new_york_data = new_york_data.append({'Borough': borough,\n",
    "                                          'Neighborhood': neighborhood_name,\n",
    "                                          'Latitude': neighborhood_lat,\n",
    "                                          'Longitude': neighborhood_lon}, ignore_index=True)\n",
    "    \n",
    "    return new_york_data"
   ]
  },
  {
   "cell_type": "markdown",
   "metadata": {},
   "source": [
    "The above function can be called to get the data from New York City."
   ]
  },
  {
   "cell_type": "code",
   "execution_count": 21,
   "metadata": {},
   "outputs": [],
   "source": [
    "# get new york data\n",
    "new_york_data=get_new_york_data()"
   ]
  },
  {
   "cell_type": "code",
   "execution_count": 22,
   "metadata": {},
   "outputs": [
    {
     "data": {
      "text/html": [
       "<div>\n",
       "<style scoped>\n",
       "    .dataframe tbody tr th:only-of-type {\n",
       "        vertical-align: middle;\n",
       "    }\n",
       "\n",
       "    .dataframe tbody tr th {\n",
       "        vertical-align: top;\n",
       "    }\n",
       "\n",
       "    .dataframe thead th {\n",
       "        text-align: right;\n",
       "    }\n",
       "</style>\n",
       "<table border=\"1\" class=\"dataframe\">\n",
       "  <thead>\n",
       "    <tr style=\"text-align: right;\">\n",
       "      <th></th>\n",
       "      <th>Borough</th>\n",
       "      <th>Neighborhood</th>\n",
       "      <th>Latitude</th>\n",
       "      <th>Longitude</th>\n",
       "    </tr>\n",
       "  </thead>\n",
       "  <tbody>\n",
       "    <tr>\n",
       "      <th>0</th>\n",
       "      <td>Bronx</td>\n",
       "      <td>Wakefield</td>\n",
       "      <td>40.894705</td>\n",
       "      <td>-73.847201</td>\n",
       "    </tr>\n",
       "    <tr>\n",
       "      <th>1</th>\n",
       "      <td>Bronx</td>\n",
       "      <td>Co-op City</td>\n",
       "      <td>40.874294</td>\n",
       "      <td>-73.829939</td>\n",
       "    </tr>\n",
       "    <tr>\n",
       "      <th>2</th>\n",
       "      <td>Bronx</td>\n",
       "      <td>Eastchester</td>\n",
       "      <td>40.887556</td>\n",
       "      <td>-73.827806</td>\n",
       "    </tr>\n",
       "    <tr>\n",
       "      <th>3</th>\n",
       "      <td>Bronx</td>\n",
       "      <td>Fieldston</td>\n",
       "      <td>40.895437</td>\n",
       "      <td>-73.905643</td>\n",
       "    </tr>\n",
       "    <tr>\n",
       "      <th>4</th>\n",
       "      <td>Bronx</td>\n",
       "      <td>Riverdale</td>\n",
       "      <td>40.890834</td>\n",
       "      <td>-73.912585</td>\n",
       "    </tr>\n",
       "  </tbody>\n",
       "</table>\n",
       "</div>"
      ],
      "text/plain": [
       "  Borough Neighborhood   Latitude  Longitude\n",
       "0   Bronx    Wakefield  40.894705 -73.847201\n",
       "1   Bronx   Co-op City  40.874294 -73.829939\n",
       "2   Bronx  Eastchester  40.887556 -73.827806\n",
       "3   Bronx    Fieldston  40.895437 -73.905643\n",
       "4   Bronx    Riverdale  40.890834 -73.912585"
      ]
     },
     "execution_count": 22,
     "metadata": {},
     "output_type": "execute_result"
    }
   ],
   "source": [
    "new_york_data.head()"
   ]
  },
  {
   "cell_type": "code",
   "execution_count": 23,
   "metadata": {},
   "outputs": [
    {
     "data": {
      "text/plain": [
       "(306, 4)"
      ]
     },
     "execution_count": 23,
     "metadata": {},
     "output_type": "execute_result"
    }
   ],
   "source": [
    "# lets find out the shape of out data set\n",
    "new_york_data.shape"
   ]
  },
  {
   "cell_type": "code",
   "execution_count": 24,
   "metadata": {},
   "outputs": [
    {
     "data": {
      "image/png": "[encoded data removed]",
      "text/plain": [
       "<Figure size 900x500 with 1 Axes>"
      ]
     },
     "metadata": {
      "needs_background": "light"
     },
     "output_type": "display_data"
    }
   ],
   "source": [
    "plt.figure(figsize=(9,5), dpi = 100)\n",
    "# title\n",
    "plt.title('Number of Neighborhood for each Borough in New York City')\n",
    "#On x-axis\n",
    "plt.xlabel('Borough', fontsize = 15)\n",
    "#On y-axis\n",
    "plt.ylabel('No.of Neighborhood', fontsize=15)\n",
    "#giving a bar plot\n",
    "new_york_data.groupby('Borough')['Neighborhood'].count().plot(kind='bar')\n",
    "#legend\n",
    "plt.legend()\n",
    "#displays the plot\n",
    "plt.show()"
   ]
  },
  {
   "cell_type": "markdown",
   "metadata": {},
   "source": [
    "The above chart shows that Queens has the highest number of neighborhoods. "
   ]
  },
  {
   "cell_type": "code",
   "execution_count": 25,
   "metadata": {},
   "outputs": [
    {
     "name": "stdout",
     "output_type": "stream",
     "text": [
      "( 1 / 306 ) Irish Pub in Wakefield, Bronx:0\n",
      "( 2 / 306 ) Irish Pub in Co-op City, Bronx:0\n",
      "( 3 / 306 ) Irish Pub in Eastchester, Bronx:0\n",
      "( 4 / 306 ) Irish Pub in Fieldston, Bronx:0\n",
      "( 5 / 306 ) Irish Pub in Riverdale, Bronx:0\n",
      "( 6 / 306 ) Irish Pub in Kingsbridge, Bronx:0\n",
      "( 7 / 306 ) Irish Pub in Marble Hill, Manhattan:0\n",
      "( 8 / 306 ) Irish Pub in Woodlawn, Bronx:0\n",
      "( 9 / 306 ) Irish Pub in Norwood, Bronx:0\n",
      "( 10 / 306 ) Irish Pub in Williamsbridge, Bronx:0\n",
      "( 11 / 306 ) Irish Pub in Baychester, Bronx:0\n",
      "( 12 / 306 ) Irish Pub in Pelham Parkway, Bronx:0\n",
      "( 13 / 306 ) Irish Pub in City Island, Bronx:0\n",
      "( 14 / 306 ) Irish Pub in Bedford Park, Bronx:0\n",
      "( 15 / 306 ) Irish Pub in University Heights, Bronx:0\n",
      "( 16 / 306 ) Irish Pub in Morris Heights, Bronx:0\n",
      "( 17 / 306 ) Irish Pub in Fordham, Bronx:0\n",
      "( 18 / 306 ) Irish Pub in East Tremont, Bronx:0\n",
      "( 19 / 306 ) Irish Pub in West Farms, Bronx:0\n",
      "( 20 / 306 ) Irish Pub in High  Bridge, Bronx:0\n",
      "( 21 / 306 ) Irish Pub in Melrose, Bronx:0\n",
      "( 22 / 306 ) Irish Pub in Mott Haven, Bronx:0\n",
      "( 23 / 306 ) Irish Pub in Port Morris, Bronx:0\n",
      "( 24 / 306 ) Irish Pub in Longwood, Bronx:0\n",
      "( 25 / 306 ) Irish Pub in Hunts Point, Bronx:0\n",
      "( 26 / 306 ) Irish Pub in Morrisania, Bronx:0\n",
      "( 27 / 306 ) Irish Pub in Soundview, Bronx:0\n",
      "( 28 / 306 ) Irish Pub in Clason Point, Bronx:0\n",
      "( 29 / 306 ) Irish Pub in Throgs Neck, Bronx:0\n",
      "( 30 / 306 ) Irish Pub in Country Club, Bronx:0\n",
      "( 31 / 306 ) Irish Pub in Parkchester, Bronx:0\n",
      "( 32 / 306 ) Irish Pub in Westchester Square, Bronx:0\n",
      "( 33 / 306 ) Irish Pub in Van Nest, Bronx:0\n",
      "( 34 / 306 ) Irish Pub in Morris Park, Bronx:0\n",
      "( 35 / 306 ) Irish Pub in Belmont, Bronx:0\n",
      "( 36 / 306 ) Irish Pub in Spuyten Duyvil, Bronx:0\n",
      "( 37 / 306 ) Irish Pub in North Riverdale, Bronx:1\n",
      "( 38 / 306 ) Irish Pub in Pelham Bay, Bronx:0\n",
      "( 39 / 306 ) Irish Pub in Schuylerville, Bronx:0\n",
      "( 40 / 306 ) Irish Pub in Edgewater Park, Bronx:0\n",
      "( 41 / 306 ) Irish Pub in Castle Hill, Bronx:0\n",
      "( 42 / 306 ) Irish Pub in Olinville, Bronx:0\n",
      "( 43 / 306 ) Irish Pub in Pelham Gardens, Bronx:0\n",
      "( 44 / 306 ) Irish Pub in Concourse, Bronx:0\n",
      "( 45 / 306 ) Irish Pub in Unionport, Bronx:0\n",
      "( 46 / 306 ) Irish Pub in Edenwald, Bronx:0\n",
      "( 47 / 306 ) Irish Pub in Bay Ridge, Brooklyn:1\n",
      "( 48 / 306 ) Irish Pub in Bensonhurst, Brooklyn:0\n",
      "( 49 / 306 ) Irish Pub in Sunset Park, Brooklyn:0\n",
      "( 50 / 306 ) Irish Pub in Greenpoint, Brooklyn:0\n",
      "( 51 / 306 ) Irish Pub in Gravesend, Brooklyn:0\n",
      "( 52 / 306 ) Irish Pub in Brighton Beach, Brooklyn:0\n",
      "( 53 / 306 ) Irish Pub in Sheepshead Bay, Brooklyn:0\n",
      "( 54 / 306 ) Irish Pub in Manhattan Terrace, Brooklyn:0\n",
      "( 55 / 306 ) Irish Pub in Flatbush, Brooklyn:0\n",
      "( 56 / 306 ) Irish Pub in Crown Heights, Brooklyn:0\n",
      "( 57 / 306 ) Irish Pub in East Flatbush, Brooklyn:0\n",
      "( 58 / 306 ) Irish Pub in Kensington, Brooklyn:0\n",
      "( 59 / 306 ) Irish Pub in Windsor Terrace, Brooklyn:0\n",
      "( 60 / 306 ) Irish Pub in Prospect Heights, Brooklyn:0\n",
      "( 61 / 306 ) Irish Pub in Brownsville, Brooklyn:0\n",
      "( 62 / 306 ) Irish Pub in Williamsburg, Brooklyn:0\n",
      "( 63 / 306 ) Irish Pub in Bushwick, Brooklyn:0\n",
      "( 64 / 306 ) Irish Pub in Bedford Stuyvesant, Brooklyn:0\n",
      "( 65 / 306 ) Irish Pub in Brooklyn Heights, Brooklyn:0\n",
      "( 66 / 306 ) Irish Pub in Cobble Hill, Brooklyn:0\n",
      "( 67 / 306 ) Irish Pub in Carroll Gardens, Brooklyn:0\n",
      "( 68 / 306 ) Irish Pub in Red Hook, Brooklyn:0\n",
      "( 69 / 306 ) Irish Pub in Gowanus, Brooklyn:0\n",
      "( 70 / 306 ) Irish Pub in Fort Greene, Brooklyn:0\n",
      "( 71 / 306 ) Irish Pub in Park Slope, Brooklyn:0\n",
      "( 72 / 306 ) Irish Pub in Cypress Hills, Brooklyn:0\n",
      "( 73 / 306 ) Irish Pub in East New York, Brooklyn:0\n",
      "( 74 / 306 ) Irish Pub in Starrett City, Brooklyn:0\n",
      "( 75 / 306 ) Irish Pub in Canarsie, Brooklyn:0\n",
      "( 76 / 306 ) Irish Pub in Flatlands, Brooklyn:0\n",
      "( 77 / 306 ) Irish Pub in Mill Island, Brooklyn:0\n",
      "( 78 / 306 ) Irish Pub in Manhattan Beach, Brooklyn:0\n",
      "( 79 / 306 ) Irish Pub in Coney Island, Brooklyn:0\n",
      "( 80 / 306 ) Irish Pub in Bath Beach, Brooklyn:0\n",
      "( 81 / 306 ) Irish Pub in Borough Park, Brooklyn:0\n",
      "( 82 / 306 ) Irish Pub in Dyker Heights, Brooklyn:0\n",
      "( 83 / 306 ) Irish Pub in Gerritsen Beach, Brooklyn:0\n",
      "( 84 / 306 ) Irish Pub in Marine Park, Brooklyn:0\n",
      "( 85 / 306 ) Irish Pub in Clinton Hill, Brooklyn:0\n",
      "( 86 / 306 ) Irish Pub in Sea Gate, Brooklyn:0\n",
      "( 87 / 306 ) Irish Pub in Downtown, Brooklyn:0\n",
      "( 88 / 306 ) Irish Pub in Boerum Hill, Brooklyn:0\n",
      "( 89 / 306 ) Irish Pub in Prospect Lefferts Gardens, Brooklyn:0\n",
      "( 90 / 306 ) Irish Pub in Ocean Hill, Brooklyn:0\n",
      "( 91 / 306 ) Irish Pub in City Line, Brooklyn:0\n",
      "( 92 / 306 ) Irish Pub in Bergen Beach, Brooklyn:0\n",
      "( 93 / 306 ) Irish Pub in Midwood, Brooklyn:0\n",
      "( 94 / 306 ) Irish Pub in Prospect Park South, Brooklyn:0\n",
      "( 95 / 306 ) Irish Pub in Georgetown, Brooklyn:0\n",
      "( 96 / 306 ) Irish Pub in East Williamsburg, Brooklyn:0\n",
      "( 97 / 306 ) Irish Pub in North Side, Brooklyn:0\n",
      "( 98 / 306 ) Irish Pub in South Side, Brooklyn:0\n",
      "( 99 / 306 ) Irish Pub in Ocean Parkway, Brooklyn:0\n",
      "( 100 / 306 ) Irish Pub in Fort Hamilton, Brooklyn:1\n",
      "( 101 / 306 ) Irish Pub in Chinatown, Manhattan:0\n",
      "( 102 / 306 ) Irish Pub in Washington Heights, Manhattan:0\n",
      "( 103 / 306 ) Irish Pub in Inwood, Manhattan:0\n",
      "( 104 / 306 ) Irish Pub in Hamilton Heights, Manhattan:0\n",
      "( 105 / 306 ) Irish Pub in Manhattanville, Manhattan:0\n",
      "( 106 / 306 ) Irish Pub in Central Harlem, Manhattan:0\n",
      "( 107 / 306 ) Irish Pub in East Harlem, Manhattan:0\n",
      "( 108 / 306 ) Irish Pub in Upper East Side, Manhattan:0\n",
      "( 109 / 306 ) Irish Pub in Yorkville, Manhattan:0\n",
      "( 110 / 306 ) Irish Pub in Lenox Hill, Manhattan:0\n",
      "( 111 / 306 ) Irish Pub in Roosevelt Island, Manhattan:0\n",
      "( 112 / 306 ) Irish Pub in Upper West Side, Manhattan:0\n",
      "( 113 / 306 ) Irish Pub in Lincoln Square, Manhattan:0\n",
      "( 114 / 306 ) Irish Pub in Clinton, Manhattan:0\n",
      "( 115 / 306 ) Irish Pub in Midtown, Manhattan:0\n",
      "( 116 / 306 ) Irish Pub in Murray Hill, Manhattan:0\n",
      "( 117 / 306 ) Irish Pub in Chelsea, Manhattan:0\n",
      "( 118 / 306 ) Irish Pub in Greenwich Village, Manhattan:0\n",
      "( 119 / 306 ) Irish Pub in East Village, Manhattan:0\n",
      "( 120 / 306 ) Irish Pub in Lower East Side, Manhattan:0\n",
      "( 121 / 306 ) Irish Pub in Tribeca, Manhattan:0\n",
      "( 122 / 306 ) Irish Pub in Little Italy, Manhattan:0\n",
      "( 123 / 306 ) Irish Pub in Soho, Manhattan:0\n",
      "( 124 / 306 ) Irish Pub in West Village, Manhattan:0\n",
      "( 125 / 306 ) Irish Pub in Manhattan Valley, Manhattan:0\n",
      "( 126 / 306 ) Irish Pub in Morningside Heights, Manhattan:0\n",
      "( 127 / 306 ) Irish Pub in Gramercy, Manhattan:0\n",
      "( 128 / 306 ) Irish Pub in Battery Park City, Manhattan:0\n",
      "( 129 / 306 ) Irish Pub in Financial District, Manhattan:0\n",
      "( 130 / 306 ) Irish Pub in Astoria, Queens:1\n",
      "( 131 / 306 ) Irish Pub in Woodside, Queens:0\n",
      "( 132 / 306 ) Irish Pub in Jackson Heights, Queens:0\n",
      "( 133 / 306 ) Irish Pub in Elmhurst, Queens:0\n",
      "( 134 / 306 ) Irish Pub in Howard Beach, Queens:0\n",
      "( 135 / 306 ) Irish Pub in Corona, Queens:0\n",
      "( 136 / 306 ) Irish Pub in Forest Hills, Queens:0\n",
      "( 137 / 306 ) Irish Pub in Kew Gardens, Queens:0\n",
      "( 138 / 306 ) Irish Pub in Richmond Hill, Queens:0\n",
      "( 139 / 306 ) Irish Pub in Flushing, Queens:0\n",
      "( 140 / 306 ) Irish Pub in Long Island City, Queens:0\n",
      "( 141 / 306 ) Irish Pub in Sunnyside, Queens:0\n",
      "( 142 / 306 ) Irish Pub in East Elmhurst, Queens:0\n",
      "( 143 / 306 ) Irish Pub in Maspeth, Queens:0\n",
      "( 144 / 306 ) Irish Pub in Ridgewood, Queens:0\n",
      "( 145 / 306 ) Irish Pub in Glendale, Queens:0\n",
      "( 146 / 306 ) Irish Pub in Rego Park, Queens:0\n",
      "( 147 / 306 ) Irish Pub in Woodhaven, Queens:0\n",
      "( 148 / 306 ) Irish Pub in Ozone Park, Queens:0\n",
      "( 149 / 306 ) Irish Pub in South Ozone Park, Queens:0\n",
      "( 150 / 306 ) Irish Pub in College Point, Queens:0\n",
      "( 151 / 306 ) Irish Pub in Whitestone, Queens:0\n",
      "( 152 / 306 ) Irish Pub in Bayside, Queens:0\n",
      "( 153 / 306 ) Irish Pub in Auburndale, Queens:0\n",
      "( 154 / 306 ) Irish Pub in Little Neck, Queens:0\n",
      "( 155 / 306 ) Irish Pub in Douglaston, Queens:0\n",
      "( 156 / 306 ) Irish Pub in Glen Oaks, Queens:0\n",
      "( 157 / 306 ) Irish Pub in Bellerose, Queens:0\n",
      "( 158 / 306 ) Irish Pub in Kew Gardens Hills, Queens:0\n",
      "( 159 / 306 ) Irish Pub in Fresh Meadows, Queens:0\n",
      "( 160 / 306 ) Irish Pub in Briarwood, Queens:0\n",
      "( 161 / 306 ) Irish Pub in Jamaica Center, Queens:0\n",
      "( 162 / 306 ) Irish Pub in Oakland Gardens, Queens:0\n",
      "( 163 / 306 ) Irish Pub in Queens Village, Queens:0\n",
      "( 164 / 306 ) Irish Pub in Hollis, Queens:0\n",
      "( 165 / 306 ) Irish Pub in South Jamaica, Queens:0\n"
     ]
    },
    {
     "name": "stdout",
     "output_type": "stream",
     "text": [
      "( 166 / 306 ) Irish Pub in St. Albans, Queens:0\n",
      "( 167 / 306 ) Irish Pub in Rochdale, Queens:0\n",
      "( 168 / 306 ) Irish Pub in Springfield Gardens, Queens:0\n",
      "( 169 / 306 ) Irish Pub in Cambria Heights, Queens:0\n",
      "( 170 / 306 ) Irish Pub in Rosedale, Queens:0\n",
      "( 171 / 306 ) Irish Pub in Far Rockaway, Queens:0\n",
      "( 172 / 306 ) Irish Pub in Broad Channel, Queens:0\n",
      "( 173 / 306 ) Irish Pub in Breezy Point, Queens:0\n",
      "( 174 / 306 ) Irish Pub in Steinway, Queens:1\n",
      "( 175 / 306 ) Irish Pub in Beechhurst, Queens:0\n",
      "( 176 / 306 ) Irish Pub in Bay Terrace, Queens:0\n",
      "( 177 / 306 ) Irish Pub in Edgemere, Queens:0\n",
      "( 178 / 306 ) Irish Pub in Arverne, Queens:0\n",
      "( 179 / 306 ) Irish Pub in Rockaway Beach, Queens:0\n",
      "( 180 / 306 ) Irish Pub in Neponsit, Queens:0\n",
      "( 181 / 306 ) Irish Pub in Murray Hill, Queens:0\n",
      "( 182 / 306 ) Irish Pub in Floral Park, Queens:0\n",
      "( 183 / 306 ) Irish Pub in Holliswood, Queens:0\n",
      "( 184 / 306 ) Irish Pub in Jamaica Estates, Queens:0\n",
      "( 185 / 306 ) Irish Pub in Queensboro Hill, Queens:0\n",
      "( 186 / 306 ) Irish Pub in Hillcrest, Queens:0\n",
      "( 187 / 306 ) Irish Pub in Ravenswood, Queens:0\n",
      "( 188 / 306 ) Irish Pub in Lindenwood, Queens:0\n",
      "( 189 / 306 ) Irish Pub in Laurelton, Queens:0\n",
      "( 190 / 306 ) Irish Pub in Lefrak City, Queens:0\n",
      "( 191 / 306 ) Irish Pub in Belle Harbor, Queens:0\n",
      "( 192 / 306 ) Irish Pub in Rockaway Park, Queens:0\n",
      "( 193 / 306 ) Irish Pub in Somerville, Queens:0\n",
      "( 194 / 306 ) Irish Pub in Brookville, Queens:0\n",
      "( 195 / 306 ) Irish Pub in Bellaire, Queens:0\n",
      "( 196 / 306 ) Irish Pub in North Corona, Queens:0\n",
      "( 197 / 306 ) Irish Pub in Forest Hills Gardens, Queens:0\n",
      "( 198 / 306 ) Irish Pub in St. George, Staten Island:0\n",
      "( 199 / 306 ) Irish Pub in New Brighton, Staten Island:0\n",
      "( 200 / 306 ) Irish Pub in Stapleton, Staten Island:0\n",
      "( 201 / 306 ) Irish Pub in Rosebank, Staten Island:0\n",
      "( 202 / 306 ) Irish Pub in West Brighton, Staten Island:0\n",
      "( 203 / 306 ) Irish Pub in Grymes Hill, Staten Island:0\n",
      "( 204 / 306 ) Irish Pub in Todt Hill, Staten Island:0\n",
      "( 205 / 306 ) Irish Pub in South Beach, Staten Island:0\n",
      "( 206 / 306 ) Irish Pub in Port Richmond, Staten Island:0\n",
      "( 207 / 306 ) Irish Pub in Mariner's Harbor, Staten Island:0\n",
      "( 208 / 306 ) Irish Pub in Port Ivory, Staten Island:0\n",
      "( 209 / 306 ) Irish Pub in Castleton Corners, Staten Island:0\n",
      "( 210 / 306 ) Irish Pub in New Springville, Staten Island:0\n",
      "( 211 / 306 ) Irish Pub in Travis, Staten Island:0\n",
      "( 212 / 306 ) Irish Pub in New Dorp, Staten Island:0\n",
      "( 213 / 306 ) Irish Pub in Oakwood, Staten Island:0\n",
      "( 214 / 306 ) Irish Pub in Great Kills, Staten Island:0\n",
      "( 215 / 306 ) Irish Pub in Eltingville, Staten Island:0\n",
      "( 216 / 306 ) Irish Pub in Annadale, Staten Island:0\n",
      "( 217 / 306 ) Irish Pub in Woodrow, Staten Island:0\n",
      "( 218 / 306 ) Irish Pub in Tottenville, Staten Island:0\n",
      "( 219 / 306 ) Irish Pub in Tompkinsville, Staten Island:0\n",
      "( 220 / 306 ) Irish Pub in Silver Lake, Staten Island:0\n",
      "( 221 / 306 ) Irish Pub in Sunnyside, Staten Island:0\n",
      "( 222 / 306 ) Irish Pub in Ditmas Park, Brooklyn:0\n",
      "( 223 / 306 ) Irish Pub in Wingate, Brooklyn:0\n",
      "( 224 / 306 ) Irish Pub in Rugby, Brooklyn:0\n",
      "( 225 / 306 ) Irish Pub in Park Hill, Staten Island:0\n",
      "( 226 / 306 ) Irish Pub in Westerleigh, Staten Island:1\n",
      "( 227 / 306 ) Irish Pub in Graniteville, Staten Island:0\n",
      "( 228 / 306 ) Irish Pub in Arlington, Staten Island:0\n",
      "( 229 / 306 ) Irish Pub in Arrochar, Staten Island:0\n",
      "( 230 / 306 ) Irish Pub in Grasmere, Staten Island:0\n",
      "( 231 / 306 ) Irish Pub in Old Town, Staten Island:0\n",
      "( 232 / 306 ) Irish Pub in Dongan Hills, Staten Island:0\n",
      "( 233 / 306 ) Irish Pub in Midland Beach, Staten Island:0\n",
      "( 234 / 306 ) Irish Pub in Grant City, Staten Island:0\n",
      "( 235 / 306 ) Irish Pub in New Dorp Beach, Staten Island:0\n",
      "( 236 / 306 ) Irish Pub in Bay Terrace, Staten Island:0\n",
      "( 237 / 306 ) Irish Pub in Huguenot, Staten Island:0\n",
      "( 238 / 306 ) Irish Pub in Pleasant Plains, Staten Island:0\n",
      "( 239 / 306 ) Irish Pub in Butler Manor, Staten Island:0\n",
      "( 240 / 306 ) Irish Pub in Charleston, Staten Island:0\n",
      "( 241 / 306 ) Irish Pub in Rossville, Staten Island:0\n",
      "( 242 / 306 ) Irish Pub in Arden Heights, Staten Island:0\n",
      "( 243 / 306 ) Irish Pub in Greenridge, Staten Island:0\n",
      "( 244 / 306 ) Irish Pub in Heartland Village, Staten Island:0\n",
      "( 245 / 306 ) Irish Pub in Chelsea, Staten Island:0\n",
      "( 246 / 306 ) Irish Pub in Bloomfield, Staten Island:0\n",
      "( 247 / 306 ) Irish Pub in Bulls Head, Staten Island:0\n",
      "( 248 / 306 ) Irish Pub in Carnegie Hill, Manhattan:0\n",
      "( 249 / 306 ) Irish Pub in Noho, Manhattan:0\n",
      "( 250 / 306 ) Irish Pub in Civic Center, Manhattan:0\n",
      "( 251 / 306 ) Irish Pub in Midtown South, Manhattan:0\n",
      "( 252 / 306 ) Irish Pub in Richmond Town, Staten Island:0\n",
      "( 253 / 306 ) Irish Pub in Shore Acres, Staten Island:0\n",
      "( 254 / 306 ) Irish Pub in Clifton, Staten Island:0\n",
      "( 255 / 306 ) Irish Pub in Concord, Staten Island:0\n",
      "( 256 / 306 ) Irish Pub in Emerson Hill, Staten Island:0\n",
      "( 257 / 306 ) Irish Pub in Randall Manor, Staten Island:0\n",
      "( 258 / 306 ) Irish Pub in Howland Hook, Staten Island:0\n",
      "( 259 / 306 ) Irish Pub in Elm Park, Staten Island:1\n",
      "( 260 / 306 ) Irish Pub in Remsen Village, Brooklyn:0\n",
      "( 261 / 306 ) Irish Pub in New Lots, Brooklyn:0\n",
      "( 262 / 306 ) Irish Pub in Paerdegat Basin, Brooklyn:0\n",
      "( 263 / 306 ) Irish Pub in Mill Basin, Brooklyn:0\n",
      "( 264 / 306 ) Irish Pub in Jamaica Hills, Queens:0\n",
      "( 265 / 306 ) Irish Pub in Utopia, Queens:0\n",
      "( 266 / 306 ) Irish Pub in Pomonok, Queens:0\n",
      "( 267 / 306 ) Irish Pub in Astoria Heights, Queens:0\n",
      "( 268 / 306 ) Irish Pub in Claremont Village, Bronx:0\n",
      "( 269 / 306 ) Irish Pub in Concourse Village, Bronx:0\n",
      "( 270 / 306 ) Irish Pub in Mount Eden, Bronx:0\n",
      "( 271 / 306 ) Irish Pub in Mount Hope, Bronx:0\n",
      "( 272 / 306 ) Irish Pub in Sutton Place, Manhattan:0\n",
      "( 273 / 306 ) Irish Pub in Hunters Point, Queens:0\n",
      "( 274 / 306 ) Irish Pub in Turtle Bay, Manhattan:0\n",
      "( 275 / 306 ) Irish Pub in Tudor City, Manhattan:0\n",
      "( 276 / 306 ) Irish Pub in Stuyvesant Town, Manhattan:0\n",
      "( 277 / 306 ) Irish Pub in Flatiron, Manhattan:0\n",
      "( 278 / 306 ) Irish Pub in Sunnyside Gardens, Queens:0\n",
      "( 279 / 306 ) Irish Pub in Blissville, Queens:0\n",
      "( 280 / 306 ) Irish Pub in Fulton Ferry, Brooklyn:0\n",
      "( 281 / 306 ) Irish Pub in Vinegar Hill, Brooklyn:0\n",
      "( 282 / 306 ) Irish Pub in Weeksville, Brooklyn:0\n",
      "( 283 / 306 ) Irish Pub in Broadway Junction, Brooklyn:0\n",
      "( 284 / 306 ) Irish Pub in Dumbo, Brooklyn:0\n",
      "( 285 / 306 ) Irish Pub in Manor Heights, Staten Island:0\n",
      "( 286 / 306 ) Irish Pub in Willowbrook, Staten Island:0\n",
      "( 287 / 306 ) Irish Pub in Sandy Ground, Staten Island:0\n",
      "( 288 / 306 ) Irish Pub in Egbertville, Staten Island:0\n",
      "( 289 / 306 ) Irish Pub in Roxbury, Queens:1\n",
      "( 290 / 306 ) Irish Pub in Homecrest, Brooklyn:0\n",
      "( 291 / 306 ) Irish Pub in Middle Village, Queens:0\n",
      "( 292 / 306 ) Irish Pub in Prince's Bay, Staten Island:0\n",
      "( 293 / 306 ) Irish Pub in Lighthouse Hill, Staten Island:0\n",
      "( 294 / 306 ) Irish Pub in Richmond Valley, Staten Island:0\n",
      "( 295 / 306 ) Irish Pub in Malba, Queens:0\n",
      "( 296 / 306 ) Irish Pub in Highland Park, Brooklyn:0\n",
      "( 297 / 306 ) Irish Pub in Madison, Brooklyn:0\n",
      "( 298 / 306 ) Irish Pub in Bronxdale, Bronx:0\n",
      "( 299 / 306 ) Irish Pub in Allerton, Bronx:0\n",
      "( 300 / 306 ) Irish Pub in Kingsbridge Heights, Bronx:0\n",
      "( 301 / 306 ) Irish Pub in Erasmus, Brooklyn:0\n",
      "( 302 / 306 ) Irish Pub in Hudson Yards, Manhattan:0\n",
      "( 303 / 306 ) Irish Pub in Hammels, Queens:0\n",
      "( 304 / 306 ) Irish Pub in Bayswater, Queens:0\n",
      "( 305 / 306 ) Irish Pub in Queensbridge, Queens:0\n",
      "( 306 / 306 ) Irish Pub in Fox Hills, Staten Island:0\n"
     ]
    }
   ],
   "source": [
    "# prepare neighborhood list that contains Irish Bars\n",
    "column_names=['Borough', 'Neighborhood', 'ID','Name']\n",
    "IrishPub_ny=pd.DataFrame(columns=column_names)\n",
    "count=1\n",
    "for row in new_york_data.values.tolist():\n",
    "    Borough, Neighborhood, Latitude, Longitude=row\n",
    "    venues = get_venues(Latitude,Longitude)\n",
    "    IrishPubs=venues[venues['Category']=='Irish Pub']   \n",
    "    print('(',count,'/',len(new_york_data),')','Irish Pub in '+Neighborhood+', '+Borough+':'+str(len(IrishPubs)))\n",
    "    for resturant_detail in IrishPubs.values.tolist():\n",
    "        id, name , category=resturant_detail\n",
    "        IrishPub_ny = IrishPub_ny.append({'Borough': Borough,\n",
    "                                                'Neighborhood': Neighborhood, \n",
    "                                                'ID': id,\n",
    "                                                'Name' : name\n",
    "                                               }, ignore_index=True)\n",
    "    count+=1"
   ]
  },
  {
   "cell_type": "code",
   "execution_count": 26,
   "metadata": {},
   "outputs": [
    {
     "data": {
      "text/html": [
       "<div>\n",
       "<style scoped>\n",
       "    .dataframe tbody tr th:only-of-type {\n",
       "        vertical-align: middle;\n",
       "    }\n",
       "\n",
       "    .dataframe tbody tr th {\n",
       "        vertical-align: top;\n",
       "    }\n",
       "\n",
       "    .dataframe thead th {\n",
       "        text-align: right;\n",
       "    }\n",
       "</style>\n",
       "<table border=\"1\" class=\"dataframe\">\n",
       "  <thead>\n",
       "    <tr style=\"text-align: right;\">\n",
       "      <th></th>\n",
       "      <th>Borough</th>\n",
       "      <th>Neighborhood</th>\n",
       "      <th>ID</th>\n",
       "      <th>Name</th>\n",
       "    </tr>\n",
       "  </thead>\n",
       "  <tbody>\n",
       "    <tr>\n",
       "      <th>0</th>\n",
       "      <td>Bronx</td>\n",
       "      <td>North Riverdale</td>\n",
       "      <td>59f3a8d12f97ec6434ddf346</td>\n",
       "      <td>Downey’s Bar &amp; Grill</td>\n",
       "    </tr>\n",
       "    <tr>\n",
       "      <th>1</th>\n",
       "      <td>Brooklyn</td>\n",
       "      <td>Bay Ridge</td>\n",
       "      <td>5678a8b0498ef875c752896e</td>\n",
       "      <td>Pipin's Pop Up</td>\n",
       "    </tr>\n",
       "    <tr>\n",
       "      <th>2</th>\n",
       "      <td>Brooklyn</td>\n",
       "      <td>Fort Hamilton</td>\n",
       "      <td>5678a8b0498ef875c752896e</td>\n",
       "      <td>Pipin's Pop Up</td>\n",
       "    </tr>\n",
       "    <tr>\n",
       "      <th>3</th>\n",
       "      <td>Queens</td>\n",
       "      <td>Astoria</td>\n",
       "      <td>56ef4e1c498ef700988cf679</td>\n",
       "      <td>Passage Irish Bar &amp; Kitchen</td>\n",
       "    </tr>\n",
       "    <tr>\n",
       "      <th>4</th>\n",
       "      <td>Queens</td>\n",
       "      <td>Steinway</td>\n",
       "      <td>5a76763223a2e6307eec70ac</td>\n",
       "      <td>Jack Jones Bar</td>\n",
       "    </tr>\n",
       "  </tbody>\n",
       "</table>\n",
       "</div>"
      ],
      "text/plain": [
       "    Borough     Neighborhood                        ID  \\\n",
       "0     Bronx  North Riverdale  59f3a8d12f97ec6434ddf346   \n",
       "1  Brooklyn        Bay Ridge  5678a8b0498ef875c752896e   \n",
       "2  Brooklyn    Fort Hamilton  5678a8b0498ef875c752896e   \n",
       "3    Queens          Astoria  56ef4e1c498ef700988cf679   \n",
       "4    Queens         Steinway  5a76763223a2e6307eec70ac   \n",
       "\n",
       "                          Name  \n",
       "0         Downey’s Bar & Grill  \n",
       "1               Pipin's Pop Up  \n",
       "2               Pipin's Pop Up  \n",
       "3  Passage Irish Bar & Kitchen  \n",
       "4               Jack Jones Bar  "
      ]
     },
     "execution_count": 26,
     "metadata": {},
     "output_type": "execute_result"
    }
   ],
   "source": [
    "IrishPub_ny.head()"
   ]
  },
  {
   "cell_type": "code",
   "execution_count": 27,
   "metadata": {},
   "outputs": [
    {
     "data": {
      "text/plain": [
       "(8, 4)"
      ]
     },
     "execution_count": 27,
     "metadata": {},
     "output_type": "execute_result"
    }
   ],
   "source": [
    "IrishPub_ny.shape"
   ]
  },
  {
   "cell_type": "code",
   "execution_count": 28,
   "metadata": {},
   "outputs": [
    {
     "data": {
      "image/png": "[encoded data removed]",
      "text/plain": [
       "<Figure size 900x500 with 1 Axes>"
      ]
     },
     "metadata": {
      "needs_background": "light"
     },
     "output_type": "display_data"
    }
   ],
   "source": [
    "plt.figure(figsize=(9,5), dpi = 100)\n",
    "# title\n",
    "plt.title('Number of Irish Pubs for each Borough in New York City')\n",
    "#On x-axis\n",
    "plt.xlabel('Borough', fontsize = 15)\n",
    "#On y-axis\n",
    "plt.ylabel('No.of Irish Pubs', fontsize=15)\n",
    "#giving a bar plot\n",
    "IrishPub_ny.groupby('Borough')['ID'].count().plot(kind='bar')\n",
    "#legend\n",
    "plt.legend()\n",
    "#displays the plot\n",
    "plt.show()"
   ]
  },
  {
   "cell_type": "markdown",
   "metadata": {},
   "source": [
    "It is evident from our chart that using the FourSquare API data that Queens is the suburb with the highest number of Irish Bars. It is also noted that the API has returned a very small number of Irish Bars whereas we know that there are hundreds of Irish Bars in NYC. Nonetheless I will continue with the analysis."
   ]
  },
  {
   "cell_type": "code",
   "execution_count": 29,
   "metadata": {
    "scrolled": true
   },
   "outputs": [
    {
     "data": {
      "image/png": "[encoded data removed]",
      "text/plain": [
       "<Figure size 900x500 with 1 Axes>"
      ]
     },
     "metadata": {
      "needs_background": "light"
     },
     "output_type": "display_data"
    }
   ],
   "source": [
    "plt.figure(figsize=(9,5), dpi = 100)\n",
    "# title\n",
    "plt.title('Number of Irish Pubs for each Neighborhood in New York City')\n",
    "#On x-axis\n",
    "plt.xlabel('Neighborhood', fontsize = 15)\n",
    "#On y-axis\n",
    "plt.ylabel('No.of Irish Pubs Resturants', fontsize=15)\n",
    "#giving a bar plot\n",
    "IrishPub_ny.groupby('Neighborhood')['ID'].count().nlargest(7).plot(kind='bar')\n",
    "#legend\n",
    "plt.legend()\n",
    "#displays the plot\n",
    "plt.show()"
   ]
  },
  {
   "cell_type": "markdown",
   "metadata": {},
   "source": [
    "It is seen that there are only seven Irish Bars with at most one in each neighborhood.\n",
    "\n",
    "Now we will get the the number of likes, average rating and tips for each Irish Bar for further analysis."
   ]
  },
  {
   "cell_type": "code",
   "execution_count": 30,
   "metadata": {},
   "outputs": [
    {
     "name": "stdout",
     "output_type": "stream",
     "text": [
      "Empty DataFrame\n",
      "Columns: [ID, Name, Likes, Rating, Tips]\n",
      "Index: []\n",
      "No data available for id= 59f3a8d12f97ec6434ddf346\n",
      "( 1 / 8 ) processed\n",
      "                         ID            Name  Likes  Rating  Tips\n",
      "0  5678a8b0498ef875c752896e  Pipin's Pop Up     12     7.6     4\n",
      "( 2 / 8 ) processed\n",
      "                         ID            Name  Likes  Rating  Tips\n",
      "0  5678a8b0498ef875c752896e  Pipin's Pop Up     12     7.6     4\n",
      "( 3 / 8 ) processed\n",
      "                         ID                         Name  Likes  Rating  Tips\n",
      "0  56ef4e1c498ef700988cf679  Passage Irish Bar & Kitchen     52     8.1     6\n",
      "( 4 / 8 ) processed\n",
      "                         ID            Name  Likes  Rating  Tips\n",
      "0  5a76763223a2e6307eec70ac  Jack Jones Bar     27     9.0     9\n",
      "( 5 / 8 ) processed\n",
      "                         ID       Name  Likes  Rating  Tips\n",
      "0  544d3c7a498e300a738cd300  O'Neill's     20     7.0     3\n",
      "( 6 / 8 ) processed\n",
      "                         ID       Name  Likes  Rating  Tips\n",
      "0  544d3c7a498e300a738cd300  O'Neill's     20     7.0     3\n",
      "( 7 / 8 ) processed\n",
      "Empty DataFrame\n",
      "Columns: [ID, Name, Likes, Rating, Tips]\n",
      "Index: []\n",
      "No data available for id= 583a1ab97b43b4128a75a6fb\n",
      "( 8 / 8 ) processed\n"
     ]
    }
   ],
   "source": [
    "# prepare neighborhood list that contains Irish Bars\n",
    "column_names=['Borough', 'Neighborhood', 'ID','Name','Likes','Rating','Tips']\n",
    "IrishPub_stats_ny=pd.DataFrame(columns=column_names)\n",
    "count=1\n",
    "\n",
    "\n",
    "for row in IrishPub_ny.values.tolist():\n",
    "    Borough,Neighborhood,ID,Name=row\n",
    "    try:\n",
    "        venue_details=get_venue_details(ID)\n",
    "        print(venue_details)\n",
    "        id,name,likes,rating,tips=venue_details.values.tolist()[0]\n",
    "    except IndexError:\n",
    "        print('No data available for id=',ID)\n",
    "        # we will assign 0 value for these Irish Bars as they may have been \n",
    "        #recently opened or details does not exist in FourSquare Database\n",
    "        id,name,likes,rating,tips=[0]*5\n",
    "    print('(',count,'/',len(IrishPub_ny),')','processed')\n",
    "    IrishPub_stats_ny = IrishPub_stats_ny.append({'Borough': Borough,\n",
    "                                                'Neighborhood': Neighborhood, \n",
    "                                                'ID': id,\n",
    "                                                'Name' : name,\n",
    "                                                'Likes' : likes,\n",
    "                                                'Rating' : rating,\n",
    "                                                'Tips' : tips\n",
    "                                               }, ignore_index=True)\n",
    "    count+=1"
   ]
  },
  {
   "cell_type": "code",
   "execution_count": 31,
   "metadata": {},
   "outputs": [
    {
     "data": {
      "text/html": [
       "<div>\n",
       "<style scoped>\n",
       "    .dataframe tbody tr th:only-of-type {\n",
       "        vertical-align: middle;\n",
       "    }\n",
       "\n",
       "    .dataframe tbody tr th {\n",
       "        vertical-align: top;\n",
       "    }\n",
       "\n",
       "    .dataframe thead th {\n",
       "        text-align: right;\n",
       "    }\n",
       "</style>\n",
       "<table border=\"1\" class=\"dataframe\">\n",
       "  <thead>\n",
       "    <tr style=\"text-align: right;\">\n",
       "      <th></th>\n",
       "      <th>Borough</th>\n",
       "      <th>Neighborhood</th>\n",
       "      <th>ID</th>\n",
       "      <th>Name</th>\n",
       "      <th>Likes</th>\n",
       "      <th>Rating</th>\n",
       "      <th>Tips</th>\n",
       "    </tr>\n",
       "  </thead>\n",
       "  <tbody>\n",
       "    <tr>\n",
       "      <th>0</th>\n",
       "      <td>Bronx</td>\n",
       "      <td>North Riverdale</td>\n",
       "      <td>0</td>\n",
       "      <td>0</td>\n",
       "      <td>0</td>\n",
       "      <td>0</td>\n",
       "      <td>0</td>\n",
       "    </tr>\n",
       "    <tr>\n",
       "      <th>1</th>\n",
       "      <td>Brooklyn</td>\n",
       "      <td>Bay Ridge</td>\n",
       "      <td>5678a8b0498ef875c752896e</td>\n",
       "      <td>Pipin's Pop Up</td>\n",
       "      <td>12</td>\n",
       "      <td>7.6</td>\n",
       "      <td>4</td>\n",
       "    </tr>\n",
       "    <tr>\n",
       "      <th>2</th>\n",
       "      <td>Brooklyn</td>\n",
       "      <td>Fort Hamilton</td>\n",
       "      <td>5678a8b0498ef875c752896e</td>\n",
       "      <td>Pipin's Pop Up</td>\n",
       "      <td>12</td>\n",
       "      <td>7.6</td>\n",
       "      <td>4</td>\n",
       "    </tr>\n",
       "    <tr>\n",
       "      <th>3</th>\n",
       "      <td>Queens</td>\n",
       "      <td>Astoria</td>\n",
       "      <td>56ef4e1c498ef700988cf679</td>\n",
       "      <td>Passage Irish Bar &amp; Kitchen</td>\n",
       "      <td>52</td>\n",
       "      <td>8.1</td>\n",
       "      <td>6</td>\n",
       "    </tr>\n",
       "    <tr>\n",
       "      <th>4</th>\n",
       "      <td>Queens</td>\n",
       "      <td>Steinway</td>\n",
       "      <td>5a76763223a2e6307eec70ac</td>\n",
       "      <td>Jack Jones Bar</td>\n",
       "      <td>27</td>\n",
       "      <td>9</td>\n",
       "      <td>9</td>\n",
       "    </tr>\n",
       "    <tr>\n",
       "      <th>5</th>\n",
       "      <td>Staten Island</td>\n",
       "      <td>Westerleigh</td>\n",
       "      <td>544d3c7a498e300a738cd300</td>\n",
       "      <td>O'Neill's</td>\n",
       "      <td>20</td>\n",
       "      <td>7</td>\n",
       "      <td>3</td>\n",
       "    </tr>\n",
       "    <tr>\n",
       "      <th>6</th>\n",
       "      <td>Staten Island</td>\n",
       "      <td>Elm Park</td>\n",
       "      <td>544d3c7a498e300a738cd300</td>\n",
       "      <td>O'Neill's</td>\n",
       "      <td>20</td>\n",
       "      <td>7</td>\n",
       "      <td>3</td>\n",
       "    </tr>\n",
       "  </tbody>\n",
       "</table>\n",
       "</div>"
      ],
      "text/plain": [
       "         Borough     Neighborhood                        ID  \\\n",
       "0          Bronx  North Riverdale                         0   \n",
       "1       Brooklyn        Bay Ridge  5678a8b0498ef875c752896e   \n",
       "2       Brooklyn    Fort Hamilton  5678a8b0498ef875c752896e   \n",
       "3         Queens          Astoria  56ef4e1c498ef700988cf679   \n",
       "4         Queens         Steinway  5a76763223a2e6307eec70ac   \n",
       "5  Staten Island      Westerleigh  544d3c7a498e300a738cd300   \n",
       "6  Staten Island         Elm Park  544d3c7a498e300a738cd300   \n",
       "\n",
       "                          Name Likes Rating Tips  \n",
       "0                            0     0      0    0  \n",
       "1               Pipin's Pop Up    12    7.6    4  \n",
       "2               Pipin's Pop Up    12    7.6    4  \n",
       "3  Passage Irish Bar & Kitchen    52    8.1    6  \n",
       "4               Jack Jones Bar    27      9    9  \n",
       "5                    O'Neill's    20      7    3  \n",
       "6                    O'Neill's    20      7    3  "
      ]
     },
     "execution_count": 31,
     "metadata": {},
     "output_type": "execute_result"
    }
   ],
   "source": [
    "IrishPub_stats_ny.head(7)"
   ]
  },
  {
   "cell_type": "code",
   "execution_count": 32,
   "metadata": {},
   "outputs": [
    {
     "data": {
      "text/plain": [
       "(8, 7)"
      ]
     },
     "execution_count": 32,
     "metadata": {},
     "output_type": "execute_result"
    }
   ],
   "source": [
    "IrishPub_stats_ny.shape"
   ]
  },
  {
   "cell_type": "code",
   "execution_count": 33,
   "metadata": {},
   "outputs": [
    {
     "data": {
      "text/plain": [
       "(8, 4)"
      ]
     },
     "execution_count": 33,
     "metadata": {},
     "output_type": "execute_result"
    }
   ],
   "source": [
    "IrishPub_ny.shape"
   ]
  },
  {
   "cell_type": "markdown",
   "metadata": {},
   "source": [
    "Now lets save our Irish Bar data to a csv sheet. This is to safeguard against modifying our hard work :) So, going forward, we will refer to the saved data sheet csv if required."
   ]
  },
  {
   "cell_type": "code",
   "execution_count": 34,
   "metadata": {},
   "outputs": [],
   "source": [
    "IrishPub_stats_ny.to_csv('Irish_Pub_stats_ny.csv', index=False)"
   ]
  },
  {
   "cell_type": "markdown",
   "metadata": {},
   "source": [
    "To be sure nothing is broken, lets verify the data from our saved csv file."
   ]
  },
  {
   "cell_type": "code",
   "execution_count": 35,
   "metadata": {},
   "outputs": [],
   "source": [
    "IrishPub_stats_ny_csv=pd.read_csv('Irish_Pub_stats_ny.csv')"
   ]
  },
  {
   "cell_type": "code",
   "execution_count": 36,
   "metadata": {},
   "outputs": [
    {
     "data": {
      "text/plain": [
       "(8, 7)"
      ]
     },
     "execution_count": 36,
     "metadata": {},
     "output_type": "execute_result"
    }
   ],
   "source": [
    "IrishPub_stats_ny_csv.shape"
   ]
  },
  {
   "cell_type": "code",
   "execution_count": 37,
   "metadata": {},
   "outputs": [
    {
     "data": {
      "text/html": [
       "<div>\n",
       "<style scoped>\n",
       "    .dataframe tbody tr th:only-of-type {\n",
       "        vertical-align: middle;\n",
       "    }\n",
       "\n",
       "    .dataframe tbody tr th {\n",
       "        vertical-align: top;\n",
       "    }\n",
       "\n",
       "    .dataframe thead th {\n",
       "        text-align: right;\n",
       "    }\n",
       "</style>\n",
       "<table border=\"1\" class=\"dataframe\">\n",
       "  <thead>\n",
       "    <tr style=\"text-align: right;\">\n",
       "      <th></th>\n",
       "      <th>Borough</th>\n",
       "      <th>Neighborhood</th>\n",
       "      <th>ID</th>\n",
       "      <th>Name</th>\n",
       "      <th>Likes</th>\n",
       "      <th>Rating</th>\n",
       "      <th>Tips</th>\n",
       "    </tr>\n",
       "  </thead>\n",
       "  <tbody>\n",
       "    <tr>\n",
       "      <th>0</th>\n",
       "      <td>Bronx</td>\n",
       "      <td>North Riverdale</td>\n",
       "      <td>0</td>\n",
       "      <td>0</td>\n",
       "      <td>0</td>\n",
       "      <td>0.0</td>\n",
       "      <td>0</td>\n",
       "    </tr>\n",
       "    <tr>\n",
       "      <th>1</th>\n",
       "      <td>Brooklyn</td>\n",
       "      <td>Bay Ridge</td>\n",
       "      <td>5678a8b0498ef875c752896e</td>\n",
       "      <td>Pipin's Pop Up</td>\n",
       "      <td>12</td>\n",
       "      <td>7.6</td>\n",
       "      <td>4</td>\n",
       "    </tr>\n",
       "    <tr>\n",
       "      <th>2</th>\n",
       "      <td>Brooklyn</td>\n",
       "      <td>Fort Hamilton</td>\n",
       "      <td>5678a8b0498ef875c752896e</td>\n",
       "      <td>Pipin's Pop Up</td>\n",
       "      <td>12</td>\n",
       "      <td>7.6</td>\n",
       "      <td>4</td>\n",
       "    </tr>\n",
       "    <tr>\n",
       "      <th>3</th>\n",
       "      <td>Queens</td>\n",
       "      <td>Astoria</td>\n",
       "      <td>56ef4e1c498ef700988cf679</td>\n",
       "      <td>Passage Irish Bar &amp; Kitchen</td>\n",
       "      <td>52</td>\n",
       "      <td>8.1</td>\n",
       "      <td>6</td>\n",
       "    </tr>\n",
       "    <tr>\n",
       "      <th>4</th>\n",
       "      <td>Queens</td>\n",
       "      <td>Steinway</td>\n",
       "      <td>5a76763223a2e6307eec70ac</td>\n",
       "      <td>Jack Jones Bar</td>\n",
       "      <td>27</td>\n",
       "      <td>9.0</td>\n",
       "      <td>9</td>\n",
       "    </tr>\n",
       "    <tr>\n",
       "      <th>5</th>\n",
       "      <td>Staten Island</td>\n",
       "      <td>Westerleigh</td>\n",
       "      <td>544d3c7a498e300a738cd300</td>\n",
       "      <td>O'Neill's</td>\n",
       "      <td>20</td>\n",
       "      <td>7.0</td>\n",
       "      <td>3</td>\n",
       "    </tr>\n",
       "    <tr>\n",
       "      <th>6</th>\n",
       "      <td>Staten Island</td>\n",
       "      <td>Elm Park</td>\n",
       "      <td>544d3c7a498e300a738cd300</td>\n",
       "      <td>O'Neill's</td>\n",
       "      <td>20</td>\n",
       "      <td>7.0</td>\n",
       "      <td>3</td>\n",
       "    </tr>\n",
       "  </tbody>\n",
       "</table>\n",
       "</div>"
      ],
      "text/plain": [
       "         Borough     Neighborhood                        ID  \\\n",
       "0          Bronx  North Riverdale                         0   \n",
       "1       Brooklyn        Bay Ridge  5678a8b0498ef875c752896e   \n",
       "2       Brooklyn    Fort Hamilton  5678a8b0498ef875c752896e   \n",
       "3         Queens          Astoria  56ef4e1c498ef700988cf679   \n",
       "4         Queens         Steinway  5a76763223a2e6307eec70ac   \n",
       "5  Staten Island      Westerleigh  544d3c7a498e300a738cd300   \n",
       "6  Staten Island         Elm Park  544d3c7a498e300a738cd300   \n",
       "\n",
       "                          Name  Likes  Rating  Tips  \n",
       "0                            0      0     0.0     0  \n",
       "1               Pipin's Pop Up     12     7.6     4  \n",
       "2               Pipin's Pop Up     12     7.6     4  \n",
       "3  Passage Irish Bar & Kitchen     52     8.1     6  \n",
       "4               Jack Jones Bar     27     9.0     9  \n",
       "5                    O'Neill's     20     7.0     3  \n",
       "6                    O'Neill's     20     7.0     3  "
      ]
     },
     "execution_count": 37,
     "metadata": {},
     "output_type": "execute_result"
    }
   ],
   "source": [
    "IrishPub_stats_ny_csv.head(7)"
   ]
  },
  {
   "cell_type": "code",
   "execution_count": 38,
   "metadata": {},
   "outputs": [
    {
     "name": "stdout",
     "output_type": "stream",
     "text": [
      "<class 'pandas.core.frame.DataFrame'>\n",
      "RangeIndex: 8 entries, 0 to 7\n",
      "Data columns (total 7 columns):\n",
      " #   Column        Non-Null Count  Dtype \n",
      "---  ------        --------------  ----- \n",
      " 0   Borough       8 non-null      object\n",
      " 1   Neighborhood  8 non-null      object\n",
      " 2   ID            8 non-null      object\n",
      " 3   Name          8 non-null      object\n",
      " 4   Likes         8 non-null      object\n",
      " 5   Rating        8 non-null      object\n",
      " 6   Tips          8 non-null      object\n",
      "dtypes: object(7)\n",
      "memory usage: 576.0+ bytes\n"
     ]
    }
   ],
   "source": [
    "IrishPub_stats_ny.info()"
   ]
  },
  {
   "cell_type": "markdown",
   "metadata": {},
   "source": [
    "Let's make the Likes and Tips floating point numbers."
   ]
  },
  {
   "cell_type": "code",
   "execution_count": 39,
   "metadata": {},
   "outputs": [],
   "source": [
    "IrishPub_stats_ny['Likes']=IrishPub_stats_ny['Likes'].astype('float64')"
   ]
  },
  {
   "cell_type": "code",
   "execution_count": 40,
   "metadata": {},
   "outputs": [],
   "source": [
    "IrishPub_stats_ny['Tips']=IrishPub_stats_ny['Tips'].astype('float64')"
   ]
  },
  {
   "cell_type": "code",
   "execution_count": 51,
   "metadata": {},
   "outputs": [],
   "source": [
    "IrishPub_stats_ny['Rating']=IrishPub_stats_ny['Rating'].astype('float64')"
   ]
  },
  {
   "cell_type": "code",
   "execution_count": 52,
   "metadata": {},
   "outputs": [
    {
     "name": "stdout",
     "output_type": "stream",
     "text": [
      "<class 'pandas.core.frame.DataFrame'>\n",
      "RangeIndex: 8 entries, 0 to 7\n",
      "Data columns (total 7 columns):\n",
      " #   Column        Non-Null Count  Dtype  \n",
      "---  ------        --------------  -----  \n",
      " 0   Borough       8 non-null      object \n",
      " 1   Neighborhood  8 non-null      object \n",
      " 2   ID            8 non-null      object \n",
      " 3   Name          8 non-null      object \n",
      " 4   Likes         8 non-null      float64\n",
      " 5   Rating        8 non-null      float64\n",
      " 6   Tips          8 non-null      float64\n",
      "dtypes: float64(3), object(4)\n",
      "memory usage: 576.0+ bytes\n"
     ]
    }
   ],
   "source": [
    "IrishPub_stats_ny.info()"
   ]
  },
  {
   "cell_type": "code",
   "execution_count": 42,
   "metadata": {},
   "outputs": [
    {
     "data": {
      "text/plain": [
       "Borough                              Queens\n",
       "Neighborhood                        Astoria\n",
       "ID                 56ef4e1c498ef700988cf679\n",
       "Name            Passage Irish Bar & Kitchen\n",
       "Likes                                    52\n",
       "Rating                                  8.1\n",
       "Tips                                      6\n",
       "Name: 3, dtype: object"
      ]
     },
     "execution_count": 42,
     "metadata": {},
     "output_type": "execute_result"
    }
   ],
   "source": [
    "# Irish Bar with maximum Likes\n",
    "IrishPub_stats_ny.iloc[IrishPub_stats_ny['Likes'].idxmax()]"
   ]
  },
  {
   "cell_type": "code",
   "execution_count": 53,
   "metadata": {},
   "outputs": [
    {
     "data": {
      "text/plain": [
       "Borough                           Queens\n",
       "Neighborhood                    Steinway\n",
       "ID              5a76763223a2e6307eec70ac\n",
       "Name                      Jack Jones Bar\n",
       "Likes                                 27\n",
       "Rating                                 9\n",
       "Tips                                   9\n",
       "Name: 4, dtype: object"
      ]
     },
     "execution_count": 53,
     "metadata": {},
     "output_type": "execute_result"
    }
   ],
   "source": [
    "# Irish Bar with maximum Rating\n",
    "IrishPub_stats_ny.iloc[IrishPub_stats_ny['Rating'].idxmax()]"
   ]
  },
  {
   "cell_type": "code",
   "execution_count": 50,
   "metadata": {},
   "outputs": [
    {
     "data": {
      "text/plain": [
       "Borough                           Queens\n",
       "Neighborhood                    Steinway\n",
       "ID              5a76763223a2e6307eec70ac\n",
       "Name                      Jack Jones Bar\n",
       "Likes                                 27\n",
       "Rating                                 9\n",
       "Tips                                   9\n",
       "Name: 4, dtype: object"
      ]
     },
     "execution_count": 50,
     "metadata": {},
     "output_type": "execute_result"
    }
   ],
   "source": [
    "IrishPub_stats_ny.iloc[IrishPub_stats_ny['Tips'].idxmax()]"
   ]
  },
  {
   "cell_type": "code",
   "execution_count": 54,
   "metadata": {},
   "outputs": [],
   "source": [
    "ny_neighborhood_stats=IrishPub_stats_ny.groupby('Neighborhood',as_index=False).mean()[['Neighborhood','Rating']]\n",
    "ny_neighborhood_stats.columns=['Neighborhood','Average Rating']"
   ]
  },
  {
   "cell_type": "code",
   "execution_count": 55,
   "metadata": {},
   "outputs": [
    {
     "data": {
      "text/html": [
       "<div>\n",
       "<style scoped>\n",
       "    .dataframe tbody tr th:only-of-type {\n",
       "        vertical-align: middle;\n",
       "    }\n",
       "\n",
       "    .dataframe tbody tr th {\n",
       "        vertical-align: top;\n",
       "    }\n",
       "\n",
       "    .dataframe thead th {\n",
       "        text-align: right;\n",
       "    }\n",
       "</style>\n",
       "<table border=\"1\" class=\"dataframe\">\n",
       "  <thead>\n",
       "    <tr style=\"text-align: right;\">\n",
       "      <th></th>\n",
       "      <th>Neighborhood</th>\n",
       "      <th>Average Rating</th>\n",
       "    </tr>\n",
       "  </thead>\n",
       "  <tbody>\n",
       "    <tr>\n",
       "      <th>6</th>\n",
       "      <td>Steinway</td>\n",
       "      <td>9.0</td>\n",
       "    </tr>\n",
       "    <tr>\n",
       "      <th>0</th>\n",
       "      <td>Astoria</td>\n",
       "      <td>8.1</td>\n",
       "    </tr>\n",
       "    <tr>\n",
       "      <th>1</th>\n",
       "      <td>Bay Ridge</td>\n",
       "      <td>7.6</td>\n",
       "    </tr>\n",
       "    <tr>\n",
       "      <th>3</th>\n",
       "      <td>Fort Hamilton</td>\n",
       "      <td>7.6</td>\n",
       "    </tr>\n",
       "    <tr>\n",
       "      <th>2</th>\n",
       "      <td>Elm Park</td>\n",
       "      <td>7.0</td>\n",
       "    </tr>\n",
       "  </tbody>\n",
       "</table>\n",
       "</div>"
      ],
      "text/plain": [
       "    Neighborhood  Average Rating\n",
       "6       Steinway             9.0\n",
       "0        Astoria             8.1\n",
       "1      Bay Ridge             7.6\n",
       "3  Fort Hamilton             7.6\n",
       "2       Elm Park             7.0"
      ]
     },
     "execution_count": 55,
     "metadata": {},
     "output_type": "execute_result"
    }
   ],
   "source": [
    "ny_neighborhood_stats.sort_values(['Average Rating'],ascending=False).head()"
   ]
  },
  {
   "cell_type": "markdown",
   "metadata": {},
   "source": [
    "The above ratings are for the top neighbourhoods with the top average rating of Irish Bars. "
   ]
  },
  {
   "cell_type": "code",
   "execution_count": 56,
   "metadata": {},
   "outputs": [],
   "source": [
    "ny_borough_stats=IrishPub_stats_ny.groupby('Borough',as_index=False).mean()[['Borough','Rating']]\n",
    "ny_borough_stats.columns=['Borough','Average Rating']"
   ]
  },
  {
   "cell_type": "code",
   "execution_count": 57,
   "metadata": {},
   "outputs": [
    {
     "data": {
      "text/html": [
       "<div>\n",
       "<style scoped>\n",
       "    .dataframe tbody tr th:only-of-type {\n",
       "        vertical-align: middle;\n",
       "    }\n",
       "\n",
       "    .dataframe tbody tr th {\n",
       "        vertical-align: top;\n",
       "    }\n",
       "\n",
       "    .dataframe thead th {\n",
       "        text-align: right;\n",
       "    }\n",
       "</style>\n",
       "<table border=\"1\" class=\"dataframe\">\n",
       "  <thead>\n",
       "    <tr style=\"text-align: right;\">\n",
       "      <th></th>\n",
       "      <th>Borough</th>\n",
       "      <th>Average Rating</th>\n",
       "    </tr>\n",
       "  </thead>\n",
       "  <tbody>\n",
       "    <tr>\n",
       "      <th>1</th>\n",
       "      <td>Brooklyn</td>\n",
       "      <td>7.6</td>\n",
       "    </tr>\n",
       "    <tr>\n",
       "      <th>3</th>\n",
       "      <td>Staten Island</td>\n",
       "      <td>7.0</td>\n",
       "    </tr>\n",
       "    <tr>\n",
       "      <th>2</th>\n",
       "      <td>Queens</td>\n",
       "      <td>5.7</td>\n",
       "    </tr>\n",
       "    <tr>\n",
       "      <th>0</th>\n",
       "      <td>Bronx</td>\n",
       "      <td>0.0</td>\n",
       "    </tr>\n",
       "  </tbody>\n",
       "</table>\n",
       "</div>"
      ],
      "text/plain": [
       "         Borough  Average Rating\n",
       "1       Brooklyn             7.6\n",
       "3  Staten Island             7.0\n",
       "2         Queens             5.7\n",
       "0          Bronx             0.0"
      ]
     },
     "execution_count": 57,
     "metadata": {},
     "output_type": "execute_result"
    }
   ],
   "source": [
    "ny_borough_stats.sort_values(['Average Rating'],ascending=False).head()"
   ]
  },
  {
   "cell_type": "markdown",
   "metadata": {},
   "source": [
    "Similarly these are the average ratings of the Irish Bars Resturants for each Borough.\n",
    "Lets put some visuals to this data.\n"
   ]
  },
  {
   "cell_type": "code",
   "execution_count": 58,
   "metadata": {},
   "outputs": [
    {
     "data": {
      "image/png": "[encoded data removed]",
      "text/plain": [
       "<Figure size 900x500 with 1 Axes>"
      ]
     },
     "metadata": {
      "needs_background": "light"
     },
     "output_type": "display_data"
    }
   ],
   "source": [
    "plt.figure(figsize=(9,5), dpi = 100)\n",
    "# title\n",
    "plt.title('Average rating of Irish Pubs for each Borough')\n",
    "#On x-axis\n",
    "plt.xlabel('Borough', fontsize = 15)\n",
    "#On y-axis\n",
    "plt.ylabel('Average Rating', fontsize=15)\n",
    "#giving a bar plot\n",
    "IrishPub_stats_ny.groupby('Borough').mean()['Rating'].plot(kind='bar')\n",
    "#legend\n",
    "plt.legend()\n",
    "#displays the plot\n",
    "plt.show()"
   ]
  },
  {
   "cell_type": "markdown",
   "metadata": {},
   "source": [
    "We will consider all the neighborhoods with average rating greater or equal 7 to visualize on map"
   ]
  },
  {
   "cell_type": "code",
   "execution_count": 59,
   "metadata": {},
   "outputs": [
    {
     "data": {
      "text/html": [
       "<div>\n",
       "<style scoped>\n",
       "    .dataframe tbody tr th:only-of-type {\n",
       "        vertical-align: middle;\n",
       "    }\n",
       "\n",
       "    .dataframe tbody tr th {\n",
       "        vertical-align: top;\n",
       "    }\n",
       "\n",
       "    .dataframe thead th {\n",
       "        text-align: right;\n",
       "    }\n",
       "</style>\n",
       "<table border=\"1\" class=\"dataframe\">\n",
       "  <thead>\n",
       "    <tr style=\"text-align: right;\">\n",
       "      <th></th>\n",
       "      <th>Neighborhood</th>\n",
       "      <th>Average Rating</th>\n",
       "    </tr>\n",
       "  </thead>\n",
       "  <tbody>\n",
       "    <tr>\n",
       "      <th>0</th>\n",
       "      <td>Astoria</td>\n",
       "      <td>8.1</td>\n",
       "    </tr>\n",
       "    <tr>\n",
       "      <th>1</th>\n",
       "      <td>Bay Ridge</td>\n",
       "      <td>7.6</td>\n",
       "    </tr>\n",
       "    <tr>\n",
       "      <th>2</th>\n",
       "      <td>Elm Park</td>\n",
       "      <td>7.0</td>\n",
       "    </tr>\n",
       "    <tr>\n",
       "      <th>3</th>\n",
       "      <td>Fort Hamilton</td>\n",
       "      <td>7.6</td>\n",
       "    </tr>\n",
       "    <tr>\n",
       "      <th>6</th>\n",
       "      <td>Steinway</td>\n",
       "      <td>9.0</td>\n",
       "    </tr>\n",
       "    <tr>\n",
       "      <th>7</th>\n",
       "      <td>Westerleigh</td>\n",
       "      <td>7.0</td>\n",
       "    </tr>\n",
       "  </tbody>\n",
       "</table>\n",
       "</div>"
      ],
      "text/plain": [
       "    Neighborhood  Average Rating\n",
       "0        Astoria             8.1\n",
       "1      Bay Ridge             7.6\n",
       "2       Elm Park             7.0\n",
       "3  Fort Hamilton             7.6\n",
       "6       Steinway             9.0\n",
       "7    Westerleigh             7.0"
      ]
     },
     "execution_count": 59,
     "metadata": {},
     "output_type": "execute_result"
    }
   ],
   "source": [
    "ny_neighborhood_stats=ny_neighborhood_stats[ny_neighborhood_stats['Average Rating']>=7]\n",
    "ny_neighborhood_stats"
   ]
  },
  {
   "cell_type": "markdown",
   "metadata": {},
   "source": [
    "Let's join this dataset to the original new york data to get longitude and latitude."
   ]
  },
  {
   "cell_type": "code",
   "execution_count": 60,
   "metadata": {},
   "outputs": [
    {
     "data": {
      "text/html": [
       "<div>\n",
       "<style scoped>\n",
       "    .dataframe tbody tr th:only-of-type {\n",
       "        vertical-align: middle;\n",
       "    }\n",
       "\n",
       "    .dataframe tbody tr th {\n",
       "        vertical-align: top;\n",
       "    }\n",
       "\n",
       "    .dataframe thead th {\n",
       "        text-align: right;\n",
       "    }\n",
       "</style>\n",
       "<table border=\"1\" class=\"dataframe\">\n",
       "  <thead>\n",
       "    <tr style=\"text-align: right;\">\n",
       "      <th></th>\n",
       "      <th>Borough</th>\n",
       "      <th>Neighborhood</th>\n",
       "      <th>Latitude</th>\n",
       "      <th>Longitude</th>\n",
       "      <th>Average Rating</th>\n",
       "    </tr>\n",
       "  </thead>\n",
       "  <tbody>\n",
       "    <tr>\n",
       "      <th>0</th>\n",
       "      <td>Queens</td>\n",
       "      <td>Astoria</td>\n",
       "      <td>40.768509</td>\n",
       "      <td>-73.915654</td>\n",
       "      <td>8.1</td>\n",
       "    </tr>\n",
       "    <tr>\n",
       "      <th>1</th>\n",
       "      <td>Brooklyn</td>\n",
       "      <td>Bay Ridge</td>\n",
       "      <td>40.625801</td>\n",
       "      <td>-74.030621</td>\n",
       "      <td>7.6</td>\n",
       "    </tr>\n",
       "    <tr>\n",
       "      <th>2</th>\n",
       "      <td>Staten Island</td>\n",
       "      <td>Elm Park</td>\n",
       "      <td>40.630147</td>\n",
       "      <td>-74.141817</td>\n",
       "      <td>7.0</td>\n",
       "    </tr>\n",
       "    <tr>\n",
       "      <th>3</th>\n",
       "      <td>Brooklyn</td>\n",
       "      <td>Fort Hamilton</td>\n",
       "      <td>40.614768</td>\n",
       "      <td>-74.031979</td>\n",
       "      <td>7.6</td>\n",
       "    </tr>\n",
       "    <tr>\n",
       "      <th>4</th>\n",
       "      <td>Queens</td>\n",
       "      <td>Steinway</td>\n",
       "      <td>40.775923</td>\n",
       "      <td>-73.902290</td>\n",
       "      <td>9.0</td>\n",
       "    </tr>\n",
       "    <tr>\n",
       "      <th>5</th>\n",
       "      <td>Staten Island</td>\n",
       "      <td>Westerleigh</td>\n",
       "      <td>40.621090</td>\n",
       "      <td>-74.133041</td>\n",
       "      <td>7.0</td>\n",
       "    </tr>\n",
       "  </tbody>\n",
       "</table>\n",
       "</div>"
      ],
      "text/plain": [
       "         Borough   Neighborhood   Latitude  Longitude  Average Rating\n",
       "0         Queens        Astoria  40.768509 -73.915654             8.1\n",
       "1       Brooklyn      Bay Ridge  40.625801 -74.030621             7.6\n",
       "2  Staten Island       Elm Park  40.630147 -74.141817             7.0\n",
       "3       Brooklyn  Fort Hamilton  40.614768 -74.031979             7.6\n",
       "4         Queens       Steinway  40.775923 -73.902290             9.0\n",
       "5  Staten Island    Westerleigh  40.621090 -74.133041             7.0"
      ]
     },
     "execution_count": 60,
     "metadata": {},
     "output_type": "execute_result"
    }
   ],
   "source": [
    "ny_neighborhood_stats=pd.merge(ny_neighborhood_stats,new_york_data, on='Neighborhood')\n",
    "ny_neighborhood_stats=ny_neighborhood_stats[['Borough','Neighborhood','Latitude','Longitude','Average Rating']]\n",
    "ny_neighborhood_stats"
   ]
  },
  {
   "cell_type": "markdown",
   "metadata": {},
   "source": [
    "Now we will show this data on a map"
   ]
  },
  {
   "cell_type": "code",
   "execution_count": 61,
   "metadata": {},
   "outputs": [],
   "source": [
    "# create map and display it\n",
    "ny_map = folium.Map(location=geo_location('New York'), zoom_start=12)\n",
    "\n",
    "# instantiate a feature group for the incidents in the dataframe\n",
    "incidents = folium.map.FeatureGroup()\n",
    "\n",
    "# looping through and add each to the incidents feature group\n",
    "for lat, lng, in ny_neighborhood_stats[['Latitude','Longitude']].values:\n",
    "    incidents.add_child(\n",
    "        folium.CircleMarker(\n",
    "            [lat, lng],\n",
    "            radius=10, # define how big you want the circle markers to be\n",
    "            color='yellow',\n",
    "            fill=True,\n",
    "            fill_color='blue',\n",
    "            fill_opacity=0.6\n",
    "        )\n",
    "    )"
   ]
  },
  {
   "cell_type": "code",
   "execution_count": 62,
   "metadata": {},
   "outputs": [
    {
     "data": {
      "text/html": [
       "<div style=\"width:100%;\"><div style=\"position:relative;width:100%;height:0;padding-bottom:60%;\"><span style=\"color:#565656\">Make this Notebook Trusted to load map: File -> Trust Notebook</span><iframe src=\"about:blank\" style=\"position:absolute;width:100%;height:100%;left:0;top:0;border:none !important;\" data-html=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 onload=\"this.contentDocument.open();this.contentDocument.write(atob(this.getAttribute('data-html')));this.contentDocument.close();\" allowfullscreen webkitallowfullscreen mozallowfullscreen></iframe></div></div>"
      ],
      "text/plain": [
       "<folium.folium.Map at 0x1dba7732880>"
      ]
     },
     "execution_count": 62,
     "metadata": {},
     "output_type": "execute_result"
    }
   ],
   "source": [
    "ny_neighborhood_stats['Label']=ny_neighborhood_stats['Neighborhood']+', '+ny_neighborhood_stats['Borough']+'('+ny_neighborhood_stats['Average Rating'].map(str)+')'\n",
    "\n",
    "# add pop-up text to each marker on the map\n",
    "for lat, lng, label in ny_neighborhood_stats[['Latitude','Longitude','Label']].values:\n",
    "    folium.Marker([lat, lng], popup=label).add_to(ny_map)        \n",
    "# add incidents to map\n",
    "ny_map.add_child(incidents)"
   ]
  },
  {
   "cell_type": "code",
   "execution_count": 63,
   "metadata": {},
   "outputs": [
    {
     "data": {
      "text/html": [
       "<div style=\"width:100%;\"><div style=\"position:relative;width:100%;height:0;padding-bottom:60%;\"><span style=\"color:#565656\">Make this Notebook Trusted to load map: File -> Trust Notebook</span><iframe src=\"about:blank\" style=\"position:absolute;width:100%;height:100%;left:0;top:0;border:none !important;\" data-html=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 onload=\"this.contentDocument.open();this.contentDocument.write(atob(this.getAttribute('data-html')));this.contentDocument.close();\" allowfullscreen webkitallowfullscreen mozallowfullscreen></iframe></div></div>"
      ],
      "text/plain": [
       "<folium.folium.Map at 0x1dba7732310>"
      ]
     },
     "execution_count": 63,
     "metadata": {},
     "output_type": "execute_result"
    }
   ],
   "source": [
    "ny_map = folium.Map(location=geo_location('New York'), zoom_start=12)\n",
    "#ny_geo = r'Borough_Boundaries.geojson'\n",
    "ny_geo = 'https://data.cityofnewyork.us/api/geospatial/tqmj-j8zm?method=export&format=GeoJSON'\n",
    "\n",
    "#ny_map.choropleth(\n",
    "folium.Choropleth(\n",
    "    geo_data=ny_geo,\n",
    "    name='choropleth',\n",
    "    data=ny_borough_stats,\n",
    "    columns=['Borough', 'Average Rating'],\n",
    "    key_on='feature.properties.boro_name',\n",
    "    fill_color='YlGn', \n",
    "    fill_opacity=0.7, \n",
    "    line_opacity=0.2,\n",
    "    legend_name='Average Rating'\n",
    ")\n",
    "\n",
    "ny_map\n",
    "# display map\n",
    "# as this is huge map data , we will save it to a file\n",
    "#ny_map.save('borough_rating.html')"
   ]
  },
  {
   "cell_type": "markdown",
   "metadata": {},
   "source": [
    "#### Results Discussion and Limitations\n",
    "From the analysis, out of the 306 neighbourhoods in New York City, only 7 Irish Bars were recorded across the city. This is surprising considering the large number of Irish Bars in New York City. Queens had the highest number of Irish Bars. A key limitation of this is that I am relying on the FourSquare API and there are likely to be many Irish Bars that are not recorded. "
   ]
  },
  {
   "cell_type": "markdown",
   "metadata": {},
   "source": [
    "#### Observations\n",
    "For the Boroughs, Queens has the highest number of Irish Bars. It is observed that the best Irish Bars are also in Queens. "
   ]
  },
  {
   "cell_type": "markdown",
   "metadata": {},
   "source": [
    "#### Conclusion\n",
    "If you are visiting New York and wish to go to an Irish Bar you should make your way out to Queens."
   ]
  },
  {
   "cell_type": "code",
   "execution_count": null,
   "metadata": {},
   "outputs": [],
   "source": []
  }
 ],
 "metadata": {
  "kernelspec": {
   "display_name": "Python 3",
   "language": "python",
   "name": "python3"
  },
  "language_info": {
   "codemirror_mode": {
    "name": "ipython",
    "version": 3
   },
   "file_extension": ".py",
   "mimetype": "text/x-python",
   "name": "python",
   "nbconvert_exporter": "python",
   "pygments_lexer": "ipython3",
   "version": "3.8.3"
  }
 },
 "nbformat": 4,
 "nbformat_minor": 4
}
