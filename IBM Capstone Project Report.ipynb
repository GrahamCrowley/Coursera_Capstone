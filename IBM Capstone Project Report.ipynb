{
 "cells": [
  {
   "cell_type": "markdown",
   "metadata": {},
   "source": [
    "#### Problem Description\n",
    "\n",
    "New York City (sometimes called the Big Apple or more simply “NYC”) is one of the most ethnically diverse and culturally rich cities in the world. With a population of over 8 million New York City is one of the most densely populated cities in the world. With the large number of diverse cultures and its high density, New York City has been labelled the “melting pot” of the US. There are as many as 800 languages spoken in New York City which makes it the most linguistically diverse city in the world. \n",
    "\n",
    "Given its rich and diverse culture it is no surprise that over 65 million tourists visited New York City in 2018. During the day many of these tourists visit the main sites and attractions in New York City which include the Statue of Liberty, Times Square and Central Park amongst others. New York City is also known as the “city that never sleeps” and many of these tourists are eager to sample the city’s nightlife culture and bars. The Irish are synonymous with the New York City and Irish Bars are viewed as being the best bars in many cities across the world as they have the best “craic”. \n",
    "\n",
    "In this project I will provide a summary of the best Irish Bars in New York City that tourists should visit.  \n"
   ]
  },
  {
   "cell_type": "markdown",
   "metadata": {},
   "source": [
    "#### Description of Data To Be Used\n",
    "There are three data sources that will be used to complete this project, namely:\n",
    "\n",
    "1.\tData source: https://cocl.us/new_york_dataset\n",
    "This data set contains the longitude and latitude of each borough and neighborhood in New York City. This information will be used to explore the various neighborhoods in each borough. \n",
    "\n",
    "2.\tData source : https://data.cityofnewyork.us/City-Government/Borough-Boundaries/tqmj-j8zm \n",
    "This data set will enable us to visualise New York City Borough boundaries.\n",
    "\n",
    "3.\tData source : Fousquare API \n",
    "This API will provide us a summary of the Irish bars in each borough and neighborhood across New York City. \n"
   ]
  },
  {
   "cell_type": "markdown",
   "metadata": {},
   "source": [
    "#### Methodology / Approach \n",
    "\n",
    "The approach to solving this problem is:\n",
    "    \n",
    "1.\tPull in the New York City borough and neighborhood from the data source: https://cocl.us/new_york_dataset.\n",
    "2.\tUse the FourSquare API to identify all venues in each borough and neighborhood.\n",
    "3.\tIdentify the venues which are Irish Bars.\n",
    "4.\tUse the FourSquare API to find the average rating and tips for each Irish Bar.\n",
    "5.\tUsing the data, identify the Irish Bars based on an average rating greater than 7.\n",
    "6.\tProduce a map of New York City that visualizes the location of the Irish Bars in each neighborhood. \n"
   ]
  },
  {
   "cell_type": "markdown",
   "metadata": {},
   "source": [
    "#### Results Discussion and Limitations\n",
    "From the analysis, out of the 306 neighbourhoods in New York City, only 7 Irish Bars were recorded across the city. This is surprising considering the large number of Irish Bars in New York City. Queens had the highest number of Irish Bars. A key limitation of this is that I am relying on the FourSquare API and there are likely to be many Irish Bars that are not recorded.\n",
    "\n"
   ]
  },
  {
   "cell_type": "markdown",
   "metadata": {},
   "source": [
    "#### Observations\n",
    "For the Boroughs, Queens has the highest number of Irish Bars. It is observed that the best Irish Bars are also in Queens.\n"
   ]
  },
  {
   "cell_type": "markdown",
   "metadata": {},
   "source": [
    "#### Conclusion\n",
    "\n",
    "If you are visiting New York and wish to go to an Irish Bar you should make your way out to Queens.\n",
    "\n"
   ]
  },
  {
   "cell_type": "code",
   "execution_count": null,
   "metadata": {},
   "outputs": [],
   "source": []
  }
 ],
 "metadata": {
  "kernelspec": {
   "display_name": "Python 3",
   "language": "python",
   "name": "python3"
  },
  "language_info": {
   "codemirror_mode": {
    "name": "ipython",
    "version": 3
   },
   "file_extension": ".py",
   "mimetype": "text/x-python",
   "name": "python",
   "nbconvert_exporter": "python",
   "pygments_lexer": "ipython3",
   "version": "3.8.3"
  }
 },
 "nbformat": 4,
 "nbformat_minor": 4
}
