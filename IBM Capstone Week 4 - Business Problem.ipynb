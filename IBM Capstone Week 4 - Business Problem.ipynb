{
 "cells": [
  {
   "cell_type": "markdown",
   "metadata": {},
   "source": [
    "# Coursera IBM Capstone Project – Battle of the Neighborhoods\n",
    "\n",
    "#### Problem Description\n",
    "\n",
    "New York City (sometimes called the Big Apple or more simply “NYC”) is one of the most ethnically diverse and culturally rich cities in the world. With a population of over 8 million New York City is one of the most densely populated cities in the world. With the large number of diverse cultures and its high density, New York City has been labelled the “melting pot” of the US. There are as many as 800 languages spoken in New York City which makes it the most linguistically diverse city in the world. \n",
    "\n",
    "Given its rich and diverse culture it is no surprise that over 65 million tourists visited New York City in 2018. During the day many of these tourists visit the main sites and attractions in New York City which include the Statue of Liberty, Times Square and Central Park amongst others. New York City is also known as the “city that never sleeps” and many of these tourists are eager to sample the city’s nightlife culture and bars. The Irish are synonymous with the New York City and Irish Bars are viewed as being the best bars in many cities across the world as they have the best “craic”. \n",
    "\n",
    "In this project I will provide a summary of the best Irish Bars in New York City that tourists should visit.  \n",
    "\n",
    "#### Description of Data To Be Used\n",
    "There are three data sources that will be used to complete this project, namely:\n",
    "\n",
    "1.\tData source: https://cocl.us/new_york_dataset\n",
    "This data set contains the longitude and latitude of each borough and neighborhood in New York City. This information will be used to explore the various neighborhoods in each borough. \n",
    "\n",
    "2.\tData source : https://data.cityofnewyork.us/City-Government/Borough-Boundaries/tqmj-j8zm \n",
    "This data set will enable us to visualise New York City Borough boundaries.\n",
    "\n",
    "3.\tData source : Fousquare API \n",
    "This API will provide us a summary of the Irish bars in each borough and neighborhood across New York City. \n",
    "\n",
    "\n",
    "#### How Will This Data Be Used to Solve the Problem?\n",
    "The approach to solving this problem is:\n",
    "1.\tPull in the New York City borough and neighborhood from the data source: https://cocl.us/new_york_dataset.\n",
    "2.\tUse the FourSquare API to identify all venues in each borough and neighborhood.\n",
    "3.\tIdentify the venues which are Irish Bars.\n",
    "4.\tUse the FourSquare API to find the average rating and tips for each Irish Bar.\n",
    "5.\tUsing the data, identify the Irish Bars based on an average rating greater than 7.\n",
    "6.\tProduce a map of New York City that visualizes the location of the Irish Bars in each neighborhood. \n"
   ]
  },
  {
   "cell_type": "markdown",
   "metadata": {},
   "source": []
  }
 ],
 "metadata": {
  "kernelspec": {
   "display_name": "Python 3",
   "language": "python",
   "name": "python3"
  },
  "language_info": {
   "codemirror_mode": {
    "name": "ipython",
    "version": 3
   },
   "file_extension": ".py",
   "mimetype": "text/x-python",
   "name": "python",
   "nbconvert_exporter": "python",
   "pygments_lexer": "ipython3",
   "version": "3.8.3"
  }
 },
 "nbformat": 4,
 "nbformat_minor": 4
}
